{
 "cells": [
  {
   "cell_type": "markdown",
   "id": "df8b5b5b",
   "metadata": {},
   "source": [
    "# NFL Draft Success Analysis\n",
    "\n",
    "In this notebook we analyze NFL data regarding team draft performance and team success in the following years. Three data sets are used for this project:\n",
    "\n",
    "1. NFL Team Draft Data (who each team drafted which year)\n",
    "2. NFL Player Performance Data (how each player performed each year in the NFL)\n",
    "3. NFL Team Performance Data (how each team performed each year)"
   ]
  },
  {
   "cell_type": "markdown",
   "id": "22833fab",
   "metadata": {},
   "source": [
    "## Import"
   ]
  },
  {
   "cell_type": "code",
   "execution_count": 55,
   "id": "bd5f32b9",
   "metadata": {},
   "outputs": [],
   "source": [
    "#Import Packages\n",
    "import pandas as pd\n",
    "import numpy as np\n",
    "import re\n",
    "import matplotlib.pyplot as plt\n",
    "from pandas.plotting import scatter_matrix\n",
    "\n",
    "from sklearn.linear_model import LinearRegression\n",
    "from sklearn.metrics import mean_squared_error\n",
    "from sklearn.model_selection import train_test_split\n",
    "from sklearn.model_selection import cross_val_score\n",
    "from sklearn.ensemble import RandomForestRegressor\n",
    "from sklearn.neighbors import KNeighborsRegressor\n",
    "from sklearn.linear_model import BayesianRidge\n",
    "from sklearn.cluster import Birch\n",
    "from sklearn.cluster import KMeans"
   ]
  },
  {
   "cell_type": "code",
   "execution_count": 202,
   "id": "566e699c",
   "metadata": {},
   "outputs": [],
   "source": [
    "#Import files\n",
    "ddf = pd.read_excel('team_draft_data.xlsx')\n",
    "pdf = pd.read_excel('player_data.xlsx', sheet_name='final')\n",
    "tpf = pd.read_excel('team_historical_records.xlsx')"
   ]
  },
  {
   "cell_type": "markdown",
   "id": "1d9731a2",
   "metadata": {},
   "source": [
    "## Analysis Description\n",
    "\n",
    "In order to perform analysis on the data set, for each NFL draft class we need to sum the approximate value (AV) for each player over the first five years of their career. Then we do a sum for all the players for a single team as long as they were with that team. Therefore, players who were traded within that time frame will not add AV to the team after they have been traded. This will produce a cumulative 5 year team AV score for each team for each draft year.\n",
    "\n",
    "The team AV score will then be compared to the team records for those years to observe trends in team draft performance and team performance. "
   ]
  },
  {
   "cell_type": "markdown",
   "id": "6bdb5c71",
   "metadata": {},
   "source": [
    "### Clean the dataframes: Player Yearly AV Data"
   ]
  },
  {
   "cell_type": "code",
   "execution_count": 203,
   "id": "cfd3f255",
   "metadata": {},
   "outputs": [
    {
     "data": {
      "text/html": [
       "<div>\n",
       "<style scoped>\n",
       "    .dataframe tbody tr th:only-of-type {\n",
       "        vertical-align: middle;\n",
       "    }\n",
       "\n",
       "    .dataframe tbody tr th {\n",
       "        vertical-align: top;\n",
       "    }\n",
       "\n",
       "    .dataframe thead th {\n",
       "        text-align: right;\n",
       "    }\n",
       "</style>\n",
       "<table border=\"1\" class=\"dataframe\">\n",
       "  <thead>\n",
       "    <tr style=\"text-align: right;\">\n",
       "      <th></th>\n",
       "      <th>year</th>\n",
       "      <th>age</th>\n",
       "      <th>team</th>\n",
       "      <th>av</th>\n",
       "      <th>name</th>\n",
       "    </tr>\n",
       "  </thead>\n",
       "  <tbody>\n",
       "    <tr>\n",
       "      <th>0</th>\n",
       "      <td>2012</td>\n",
       "      <td>23</td>\n",
       "      <td>ARI</td>\n",
       "      <td>-5.0</td>\n",
       "      <td>Ryan Lindley</td>\n",
       "    </tr>\n",
       "    <tr>\n",
       "      <th>2</th>\n",
       "      <td>2 yrs</td>\n",
       "      <td>2 yrs</td>\n",
       "      <td>ARI</td>\n",
       "      <td>-4.0</td>\n",
       "      <td>Ryan Lindley</td>\n",
       "    </tr>\n",
       "    <tr>\n",
       "      <th>3</th>\n",
       "      <td>2009</td>\n",
       "      <td>26</td>\n",
       "      <td>CLE</td>\n",
       "      <td>-4.0</td>\n",
       "      <td>Derek Anderson</td>\n",
       "    </tr>\n",
       "    <tr>\n",
       "      <th>4</th>\n",
       "      <td>1998</td>\n",
       "      <td>26</td>\n",
       "      <td>PHI</td>\n",
       "      <td>-3.0</td>\n",
       "      <td>Bobby Hoying</td>\n",
       "    </tr>\n",
       "    <tr>\n",
       "      <th>6</th>\n",
       "      <td>2012</td>\n",
       "      <td>24</td>\n",
       "      <td>ARI</td>\n",
       "      <td>-2.0</td>\n",
       "      <td>John Skelton</td>\n",
       "    </tr>\n",
       "    <tr>\n",
       "      <th>...</th>\n",
       "      <td>...</td>\n",
       "      <td>...</td>\n",
       "      <td>...</td>\n",
       "      <td>...</td>\n",
       "      <td>...</td>\n",
       "    </tr>\n",
       "    <tr>\n",
       "      <th>50056</th>\n",
       "      <td>NaN</td>\n",
       "      <td>NaN</td>\n",
       "      <td>MIA</td>\n",
       "      <td>NaN</td>\n",
       "      <td>Austin Reiter</td>\n",
       "    </tr>\n",
       "    <tr>\n",
       "      <th>50057</th>\n",
       "      <td>NaN</td>\n",
       "      <td>NaN</td>\n",
       "      <td>NOR</td>\n",
       "      <td>NaN</td>\n",
       "      <td>Austin Reiter</td>\n",
       "    </tr>\n",
       "    <tr>\n",
       "      <th>50058</th>\n",
       "      <td>1 yr</td>\n",
       "      <td>1 yr</td>\n",
       "      <td>MIA</td>\n",
       "      <td>NaN</td>\n",
       "      <td>Austin Reiter</td>\n",
       "    </tr>\n",
       "    <tr>\n",
       "      <th>50059</th>\n",
       "      <td>1 yr</td>\n",
       "      <td>1 yr</td>\n",
       "      <td>NOR</td>\n",
       "      <td>NaN</td>\n",
       "      <td>Austin Reiter</td>\n",
       "    </tr>\n",
       "    <tr>\n",
       "      <th>50060</th>\n",
       "      <td>2021</td>\n",
       "      <td>33</td>\n",
       "      <td>MIN</td>\n",
       "      <td>NaN</td>\n",
       "      <td>Kirk Cousins</td>\n",
       "    </tr>\n",
       "  </tbody>\n",
       "</table>\n",
       "<p>43790 rows × 5 columns</p>\n",
       "</div>"
      ],
      "text/plain": [
       "        year    age team   av            name\n",
       "0       2012     23  ARI -5.0    Ryan Lindley\n",
       "2      2 yrs  2 yrs  ARI -4.0    Ryan Lindley\n",
       "3       2009     26  CLE -4.0  Derek Anderson\n",
       "4       1998     26  PHI -3.0    Bobby Hoying\n",
       "6       2012     24  ARI -2.0    John Skelton\n",
       "...      ...    ...  ...  ...             ...\n",
       "50056    NaN    NaN  MIA  NaN   Austin Reiter\n",
       "50057    NaN    NaN  NOR  NaN   Austin Reiter\n",
       "50058   1 yr   1 yr  MIA  NaN   Austin Reiter\n",
       "50059   1 yr   1 yr  NOR  NaN   Austin Reiter\n",
       "50060   2021     33  MIN  NaN    Kirk Cousins\n",
       "\n",
       "[43790 rows x 5 columns]"
      ]
     },
     "execution_count": 203,
     "metadata": {},
     "output_type": "execute_result"
    }
   ],
   "source": [
    "#Remove the career totals\n",
    "pdf = pdf[pdf.year != 'Career']\n",
    "pdf"
   ]
  },
  {
   "cell_type": "code",
   "execution_count": 204,
   "id": "222b7c08",
   "metadata": {},
   "outputs": [
    {
     "data": {
      "text/html": [
       "<div>\n",
       "<style scoped>\n",
       "    .dataframe tbody tr th:only-of-type {\n",
       "        vertical-align: middle;\n",
       "    }\n",
       "\n",
       "    .dataframe tbody tr th {\n",
       "        vertical-align: top;\n",
       "    }\n",
       "\n",
       "    .dataframe thead th {\n",
       "        text-align: right;\n",
       "    }\n",
       "</style>\n",
       "<table border=\"1\" class=\"dataframe\">\n",
       "  <thead>\n",
       "    <tr style=\"text-align: right;\">\n",
       "      <th></th>\n",
       "      <th>year</th>\n",
       "      <th>age</th>\n",
       "      <th>team</th>\n",
       "      <th>av</th>\n",
       "      <th>name</th>\n",
       "    </tr>\n",
       "  </thead>\n",
       "  <tbody>\n",
       "    <tr>\n",
       "      <th>0</th>\n",
       "      <td>2012</td>\n",
       "      <td>23</td>\n",
       "      <td>ARI</td>\n",
       "      <td>-5.0</td>\n",
       "      <td>Ryan Lindley</td>\n",
       "    </tr>\n",
       "    <tr>\n",
       "      <th>3</th>\n",
       "      <td>2009</td>\n",
       "      <td>26</td>\n",
       "      <td>CLE</td>\n",
       "      <td>-4.0</td>\n",
       "      <td>Derek Anderson</td>\n",
       "    </tr>\n",
       "    <tr>\n",
       "      <th>4</th>\n",
       "      <td>1998</td>\n",
       "      <td>26</td>\n",
       "      <td>PHI</td>\n",
       "      <td>-3.0</td>\n",
       "      <td>Bobby Hoying</td>\n",
       "    </tr>\n",
       "    <tr>\n",
       "      <th>6</th>\n",
       "      <td>2012</td>\n",
       "      <td>24</td>\n",
       "      <td>ARI</td>\n",
       "      <td>-2.0</td>\n",
       "      <td>John Skelton</td>\n",
       "    </tr>\n",
       "    <tr>\n",
       "      <th>7</th>\n",
       "      <td>2009</td>\n",
       "      <td>28</td>\n",
       "      <td>STL</td>\n",
       "      <td>-2.0</td>\n",
       "      <td>Kyle Boller</td>\n",
       "    </tr>\n",
       "    <tr>\n",
       "      <th>...</th>\n",
       "      <td>...</td>\n",
       "      <td>...</td>\n",
       "      <td>...</td>\n",
       "      <td>...</td>\n",
       "      <td>...</td>\n",
       "    </tr>\n",
       "    <tr>\n",
       "      <th>50054</th>\n",
       "      <td>2021</td>\n",
       "      <td>30</td>\n",
       "      <td>WAS</td>\n",
       "      <td>NaN</td>\n",
       "      <td>Brandon Scherff</td>\n",
       "    </tr>\n",
       "    <tr>\n",
       "      <th>50055</th>\n",
       "      <td>2021</td>\n",
       "      <td>30</td>\n",
       "      <td>2TM</td>\n",
       "      <td>NaN</td>\n",
       "      <td>Austin Reiter</td>\n",
       "    </tr>\n",
       "    <tr>\n",
       "      <th>50056</th>\n",
       "      <td>NaN</td>\n",
       "      <td>NaN</td>\n",
       "      <td>MIA</td>\n",
       "      <td>NaN</td>\n",
       "      <td>Austin Reiter</td>\n",
       "    </tr>\n",
       "    <tr>\n",
       "      <th>50057</th>\n",
       "      <td>NaN</td>\n",
       "      <td>NaN</td>\n",
       "      <td>NOR</td>\n",
       "      <td>NaN</td>\n",
       "      <td>Austin Reiter</td>\n",
       "    </tr>\n",
       "    <tr>\n",
       "      <th>50060</th>\n",
       "      <td>2021</td>\n",
       "      <td>33</td>\n",
       "      <td>MIN</td>\n",
       "      <td>NaN</td>\n",
       "      <td>Kirk Cousins</td>\n",
       "    </tr>\n",
       "  </tbody>\n",
       "</table>\n",
       "<p>33885 rows × 5 columns</p>\n",
       "</div>"
      ],
      "text/plain": [
       "       year  age team   av             name\n",
       "0      2012   23  ARI -5.0     Ryan Lindley\n",
       "3      2009   26  CLE -4.0   Derek Anderson\n",
       "4      1998   26  PHI -3.0     Bobby Hoying\n",
       "6      2012   24  ARI -2.0     John Skelton\n",
       "7      2009   28  STL -2.0      Kyle Boller\n",
       "...     ...  ...  ...  ...              ...\n",
       "50054  2021   30  WAS  NaN  Brandon Scherff\n",
       "50055  2021   30  2TM  NaN    Austin Reiter\n",
       "50056   NaN  NaN  MIA  NaN    Austin Reiter\n",
       "50057   NaN  NaN  NOR  NaN    Austin Reiter\n",
       "50060  2021   33  MIN  NaN     Kirk Cousins\n",
       "\n",
       "[33885 rows x 5 columns]"
      ]
     },
     "execution_count": 204,
     "metadata": {},
     "output_type": "execute_result"
    }
   ],
   "source": [
    "#Remove total values for a team (values containing 'yr' or 'yrs') and just leave the year values \n",
    "pdf = pdf[(~pdf.year.str.contains('yrs', na=False)) & (~pdf.year.str.contains('yr', na=False))]\n",
    "pdf"
   ]
  },
  {
   "cell_type": "code",
   "execution_count": 205,
   "id": "42ad8683",
   "metadata": {},
   "outputs": [
    {
     "data": {
      "text/plain": [
       "1551"
      ]
     },
     "execution_count": 205,
     "metadata": {},
     "output_type": "execute_result"
    }
   ],
   "source": [
    "#Check for null years\n",
    "pdf.year.isnull().sum()"
   ]
  },
  {
   "cell_type": "code",
   "execution_count": 207,
   "id": "8e9cb48b",
   "metadata": {},
   "outputs": [
    {
     "data": {
      "text/plain": [
       "0"
      ]
     },
     "execution_count": 207,
     "metadata": {},
     "output_type": "execute_result"
    }
   ],
   "source": [
    "#Remove null years\n",
    "pdf = pdf[pdf.year.notna()]\n",
    "pdf.year.isnull().sum()"
   ]
  },
  {
   "cell_type": "code",
   "execution_count": 208,
   "id": "2b7031f9",
   "metadata": {},
   "outputs": [
    {
     "data": {
      "text/html": [
       "<div>\n",
       "<style scoped>\n",
       "    .dataframe tbody tr th:only-of-type {\n",
       "        vertical-align: middle;\n",
       "    }\n",
       "\n",
       "    .dataframe tbody tr th {\n",
       "        vertical-align: top;\n",
       "    }\n",
       "\n",
       "    .dataframe thead th {\n",
       "        text-align: right;\n",
       "    }\n",
       "</style>\n",
       "<table border=\"1\" class=\"dataframe\">\n",
       "  <thead>\n",
       "    <tr style=\"text-align: right;\">\n",
       "      <th></th>\n",
       "      <th>year</th>\n",
       "      <th>age</th>\n",
       "      <th>team</th>\n",
       "      <th>av</th>\n",
       "      <th>name</th>\n",
       "    </tr>\n",
       "  </thead>\n",
       "  <tbody>\n",
       "    <tr>\n",
       "      <th>85</th>\n",
       "      <td>2021</td>\n",
       "      <td>25</td>\n",
       "      <td>ARI</td>\n",
       "      <td>0.0</td>\n",
       "      <td>Budda Baker</td>\n",
       "    </tr>\n",
       "    <tr>\n",
       "      <th>30080</th>\n",
       "      <td>2018</td>\n",
       "      <td>22</td>\n",
       "      <td>ARI</td>\n",
       "      <td>5.0</td>\n",
       "      <td>Budda Baker</td>\n",
       "    </tr>\n",
       "    <tr>\n",
       "      <th>32879</th>\n",
       "      <td>2019</td>\n",
       "      <td>23</td>\n",
       "      <td>ARI</td>\n",
       "      <td>6.0</td>\n",
       "      <td>Budda Baker</td>\n",
       "    </tr>\n",
       "    <tr>\n",
       "      <th>40353</th>\n",
       "      <td>2017</td>\n",
       "      <td>21</td>\n",
       "      <td>ARI</td>\n",
       "      <td>9.0</td>\n",
       "      <td>Budda Baker</td>\n",
       "    </tr>\n",
       "    <tr>\n",
       "      <th>44268</th>\n",
       "      <td>2020</td>\n",
       "      <td>24</td>\n",
       "      <td>ARI</td>\n",
       "      <td>14.0</td>\n",
       "      <td>Budda Baker</td>\n",
       "    </tr>\n",
       "  </tbody>\n",
       "</table>\n",
       "</div>"
      ],
      "text/plain": [
       "       year age team    av         name\n",
       "85     2021  25  ARI   0.0  Budda Baker\n",
       "30080  2018  22  ARI   5.0  Budda Baker\n",
       "32879  2019  23  ARI   6.0  Budda Baker\n",
       "40353  2017  21  ARI   9.0  Budda Baker\n",
       "44268  2020  24  ARI  14.0  Budda Baker"
      ]
     },
     "execution_count": 208,
     "metadata": {},
     "output_type": "execute_result"
    }
   ],
   "source": [
    "#Remove any wierd characters in the year column (* and +)\n",
    "pdf = pdf.replace(to_replace=r'\\*', value='', regex=True)\n",
    "pdf = pdf.replace(to_replace=r'\\+' , value='', regex=True)\n",
    "pdf[pdf.name == 'Budda Baker']"
   ]
  },
  {
   "cell_type": "code",
   "execution_count": 209,
   "id": "15cd44ea",
   "metadata": {},
   "outputs": [],
   "source": [
    "#Convert year, age, and av to numeric values\n",
    "\n",
    "for column in pdf.columns:\n",
    "    if column == 'year' or column == 'age' or column == 'av':\n",
    "        pdf[column] = pd.to_numeric(pdf[column])"
   ]
  },
  {
   "cell_type": "code",
   "execution_count": 210,
   "id": "70accf46",
   "metadata": {},
   "outputs": [
    {
     "data": {
      "text/plain": [
       "<AxesSubplot:>"
      ]
     },
     "execution_count": 210,
     "metadata": {},
     "output_type": "execute_result"
    },
    {
     "data": {
      "image/png": "[encoded data removed]",
      "text/plain": [
       "<Figure size 432x288 with 1 Axes>"
      ]
     },
     "metadata": {
      "needs_background": "light"
     },
     "output_type": "display_data"
    }
   ],
   "source": [
    "pdf.boxplot()"
   ]
  },
  {
   "cell_type": "code",
   "execution_count": 211,
   "id": "4651182f",
   "metadata": {},
   "outputs": [
    {
     "data": {
      "image/png": "[encoded data removed]",
      "text/plain": [
       "<Figure size 432x432 with 4 Axes>"
      ]
     },
     "metadata": {
      "needs_background": "light"
     },
     "output_type": "display_data"
    }
   ],
   "source": [
    "#Histogram of numerical values\n",
    "pdf.hist(figsize=(6, 6), bins=10, alpha = 0.75, color = 'y')\n",
    "plt.tight_layout()\n",
    "plt.show()"
   ]
  },
  {
   "cell_type": "code",
   "execution_count": null,
   "id": "eb3c7331",
   "metadata": {},
   "outputs": [],
   "source": []
  }
 ],
 "metadata": {
  "kernelspec": {
   "display_name": "Python 3",
   "language": "python",
   "name": "python3"
  },
  "language_info": {
   "codemirror_mode": {
    "name": "ipython",
    "version": 3
   },
   "file_extension": ".py",
   "mimetype": "text/x-python",
   "name": "python",
   "nbconvert_exporter": "python",
   "pygments_lexer": "ipython3",
   "version": "3.8.8"
  }
 },
 "nbformat": 4,
 "nbformat_minor": 5
}
